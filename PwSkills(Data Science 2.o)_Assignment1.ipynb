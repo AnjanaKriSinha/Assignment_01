{
 "cells": [
  {
   "cell_type": "markdown",
   "id": "0c25dfa6-4756-4430-b018-5a21948928d6",
   "metadata": {},
   "source": [
    "Q1. Create one variable containing following type of data:\n",
    "(i) string\n",
    "(ii) list\n",
    "(iii) float\n",
    "(iv) tuple"
   ]
  },
  {
   "cell_type": "code",
   "execution_count": 2,
   "id": "43065619-c51c-4234-b0e0-6580164e5e25",
   "metadata": {},
   "outputs": [
    {
     "name": "stdout",
     "output_type": "stream",
     "text": [
      "Anjana\n"
     ]
    }
   ],
   "source": [
    "str = \"Anjana\"\n",
    "print(str)"
   ]
  },
  {
   "cell_type": "code",
   "execution_count": 3,
   "id": "30ca84cb-1878-4aa7-ae4f-6187697eb1ff",
   "metadata": {},
   "outputs": [
    {
     "data": {
      "text/plain": [
       "[1, 'Anjana', 1.25, True]"
      ]
     },
     "execution_count": 3,
     "metadata": {},
     "output_type": "execute_result"
    }
   ],
   "source": [
    "list = [1,\"Anjana\",1.25,True]\n",
    "list"
   ]
  },
  {
   "cell_type": "code",
   "execution_count": 4,
   "id": "029e44e1-13bd-4458-9065-165fc634dfce",
   "metadata": {},
   "outputs": [
    {
     "data": {
      "text/plain": [
       "78.9"
      ]
     },
     "execution_count": 4,
     "metadata": {},
     "output_type": "execute_result"
    }
   ],
   "source": [
    "f = 78.9\n",
    "f"
   ]
  },
  {
   "cell_type": "code",
   "execution_count": 7,
   "id": "a68cc05f-6dc9-42b3-b937-ac2db31d745c",
   "metadata": {},
   "outputs": [
    {
     "data": {
      "text/plain": [
       "('Sunday', 'Monday', 'Tuesday')"
      ]
     },
     "execution_count": 7,
     "metadata": {},
     "output_type": "execute_result"
    }
   ],
   "source": [
    "t =(\"Sunday\",\"Monday\",\"Tuesday\")\n",
    "t"
   ]
  },
  {
   "cell_type": "markdown",
   "id": "faa25fa4-1383-4a67-92c5-238915d8d55e",
   "metadata": {},
   "source": []
  },
  {
   "cell_type": "markdown",
   "id": "a6269987-f320-415a-bba2-1f30cb60946f",
   "metadata": {},
   "source": [
    "Q2. Given are some following variables containing data:\n",
    "(i) var1 = ‘ ‘\n",
    "(ii) var2 = ‘[ DS , ML , Python]’\n",
    "(iii) var3 = [ ‘DS’ , ’ML’ , ‘Python’ ]\n",
    "(iv) var4 = 1.\n",
    "What will be the data type of the above given variable."
   ]
  },
  {
   "cell_type": "code",
   "execution_count": 9,
   "id": "0f90218f-d7f8-43e1-86ae-ace1295563e5",
   "metadata": {},
   "outputs": [
    {
     "data": {
      "text/plain": [
       "str"
      ]
     },
     "execution_count": 9,
     "metadata": {},
     "output_type": "execute_result"
    }
   ],
   "source": [
    "var1 = ' '\n",
    "type(var1)"
   ]
  },
  {
   "cell_type": "code",
   "execution_count": 11,
   "id": "1d2bf9a2-7284-4eda-9f6d-a0e1f7f58e5f",
   "metadata": {},
   "outputs": [
    {
     "data": {
      "text/plain": [
       "str"
      ]
     },
     "execution_count": 11,
     "metadata": {},
     "output_type": "execute_result"
    }
   ],
   "source": [
    "var2 = '[ DS , ML , Python]'\n",
    "type(var2)"
   ]
  },
  {
   "cell_type": "code",
   "execution_count": 13,
   "id": "269c115e-0b58-4530-9b61-cc262a50cce0",
   "metadata": {},
   "outputs": [
    {
     "data": {
      "text/plain": [
       "list"
      ]
     },
     "execution_count": 13,
     "metadata": {},
     "output_type": "execute_result"
    }
   ],
   "source": [
    "var3 = [ 'DS' , 'ML' , 'Python' ]\n",
    "type(var3)\n"
   ]
  },
  {
   "cell_type": "code",
   "execution_count": 14,
   "id": "266ec8d9-f07b-4e14-ad4c-e4747210c8b8",
   "metadata": {},
   "outputs": [
    {
     "data": {
      "text/plain": [
       "int"
      ]
     },
     "execution_count": 14,
     "metadata": {},
     "output_type": "execute_result"
    }
   ],
   "source": [
    "var4 = 1\n",
    "type(var4)"
   ]
  },
  {
   "cell_type": "raw",
   "id": "5824f7e3-5fde-44f1-989a-f792e70adfe4",
   "metadata": {},
   "source": []
  },
  {
   "cell_type": "markdown",
   "id": "2a64f3af-2dcf-443f-a432-603c3a0f2fe5",
   "metadata": {},
   "source": [
    "Q3. Explain the use of the following operators using an example:\n",
    "(i) /\n",
    "(ii) %\n",
    "(iii) //\n",
    "(iv) **"
   ]
  },
  {
   "cell_type": "markdown",
   "id": "be90255e-b3f1-4afe-9fb9-4c076aa57aa7",
   "metadata": {},
   "source": [
    " /(divide) : It returns the quotient after dividing the first operand by the second operand.In this division results in a floating-point value."
   ]
  },
  {
   "cell_type": "code",
   "execution_count": 21,
   "id": "c4bafdb0-16dc-4a5a-aefd-b340a5b8e79f",
   "metadata": {},
   "outputs": [
    {
     "data": {
      "text/plain": [
       "3.0"
      ]
     },
     "execution_count": 21,
     "metadata": {},
     "output_type": "execute_result"
    }
   ],
   "source": [
    "num1 = 9\n",
    "num2 = 3\n",
    "num1/num2"
   ]
  },
  {
   "cell_type": "markdown",
   "id": "dcdbb840-f8c0-4b48-bc81-a83087a08115",
   "metadata": {},
   "source": [
    "%(Modulus)  : It returns the reminder after dividing the first operand by the second operand."
   ]
  },
  {
   "cell_type": "code",
   "execution_count": 19,
   "id": "7b3bf6b6-73df-4016-963f-520742fb1d0f",
   "metadata": {},
   "outputs": [
    {
     "data": {
      "text/plain": [
       "1"
      ]
     },
     "execution_count": 19,
     "metadata": {},
     "output_type": "execute_result"
    }
   ],
   "source": [
    "a = 11 \n",
    "b = 5\n",
    "a%b"
   ]
  },
  {
   "cell_type": "markdown",
   "id": "94a6bb5f-4609-4a76-aab3-d56d5ddba511",
   "metadata": {},
   "source": [
    "// (Floor division) : Divides and returns the integer value of the quotient. It dumps the digits after the decimal."
   ]
  },
  {
   "cell_type": "code",
   "execution_count": 22,
   "id": "c3ed358c-ffff-40e2-944a-7b11521c4c7f",
   "metadata": {},
   "outputs": [
    {
     "data": {
      "text/plain": [
       "1"
      ]
     },
     "execution_count": 22,
     "metadata": {},
     "output_type": "execute_result"
    }
   ],
   "source": [
    "n1 = 15\n",
    "n2 = 10\n",
    "n1//n2"
   ]
  },
  {
   "cell_type": "markdown",
   "id": "8efe1ede-7c35-4ef1-9605-4908279e2a7f",
   "metadata": {},
   "source": [
    "**(Exponent) : Raises the first number to the power of the second."
   ]
  },
  {
   "cell_type": "code",
   "execution_count": 23,
   "id": "3fb42d7a-5af8-442e-b71a-56b0f79dc6da",
   "metadata": {},
   "outputs": [
    {
     "data": {
      "text/plain": [
       "8"
      ]
     },
     "execution_count": 23,
     "metadata": {},
     "output_type": "execute_result"
    }
   ],
   "source": [
    "first = 2\n",
    "second = 3\n",
    "first ** second"
   ]
  },
  {
   "cell_type": "raw",
   "id": "cc1d3f57-a35b-41eb-8324-f8777e884088",
   "metadata": {},
   "source": []
  },
  {
   "cell_type": "markdown",
   "id": "788d0b3d-b4ba-474d-ad53-13759e68b585",
   "metadata": {},
   "source": [
    "Q4. Create a list of length 10 of your choice containing multiple types of data. Using for loop print the\n",
    "element and its data type."
   ]
  },
  {
   "cell_type": "code",
   "execution_count": 26,
   "id": "6e00f136-971b-4f45-9772-fb0a77411e64",
   "metadata": {},
   "outputs": [
    {
     "name": "stdout",
     "output_type": "stream",
     "text": [
      "1\n",
      "<class 'int'>\n",
      "2\n",
      "<class 'int'>\n",
      "3\n",
      "<class 'int'>\n",
      "4\n",
      "<class 'int'>\n",
      "5\n",
      "<class 'int'>\n",
      "Anjana\n",
      "<class 'str'>\n",
      "Sinha\n",
      "<class 'str'>\n",
      "8.96\n",
      "<class 'float'>\n",
      "True\n",
      "<class 'bool'>\n",
      "False\n",
      "<class 'bool'>\n"
     ]
    }
   ],
   "source": [
    "list = [1,2,3,4,5,\"Anjana\",\"Sinha\",8.96,True,False]\n",
    "for i in list:\n",
    "    print(i)\n",
    "    print(type(i))\n",
    "    "
   ]
  },
  {
   "cell_type": "markdown",
   "id": "1dfea420-0486-4100-9492-cdbebfd69bef",
   "metadata": {},
   "source": []
  },
  {
   "cell_type": "markdown",
   "id": "b30bc589-98a8-4aa3-a294-bfa576bc79c9",
   "metadata": {},
   "source": [
    "Q5. Using a while loop, verify if the number A is purely divisible by number B and if so then how many\n",
    "times it can be divisible."
   ]
  },
  {
   "cell_type": "code",
   "execution_count": 1,
   "id": "c8a18ade-28b3-49e9-938c-c7342b29abe2",
   "metadata": {},
   "outputs": [
    {
     "name": "stdin",
     "output_type": "stream",
     "text": [
      "Enter the number A:  5\n",
      "Enter the number B:  3\n"
     ]
    },
    {
     "name": "stdout",
     "output_type": "stream",
     "text": [
      "5 is not purely divisible by 3.\n"
     ]
    }
   ],
   "source": [
    "A = int(input(\"Enter the number A: \"))\n",
    "B = int(input(\"Enter the number B: \"))\n",
    "count = 0\n",
    "\n",
    "while A % B == 0:\n",
    "    A = A // B  \n",
    "    count += 1\n",
    "\n",
    "if count > 0:\n",
    "    print(f\"{A} can be divided by {B} exactly {count} times.\")\n",
    "else:\n",
    "    print(f\"{A} is not purely divisible by {B}.\")"
   ]
  },
  {
   "cell_type": "raw",
   "id": "20d10cfa-ecdc-4202-9621-49fe8b37cf66",
   "metadata": {},
   "source": []
  },
  {
   "cell_type": "markdown",
   "id": "6f36f995-594d-4dd2-b641-bd0bbfb9c0bf",
   "metadata": {},
   "source": [
    "Q6. Create a list containing 25 int type data. Using for loop and if-else condition print if the element is\n",
    "divisible by 3 or not."
   ]
  },
  {
   "cell_type": "code",
   "execution_count": 4,
   "id": "09b645fd-d90c-4b01-b553-a8485095adec",
   "metadata": {},
   "outputs": [
    {
     "name": "stdout",
     "output_type": "stream",
     "text": [
      "4 is not divisible by 3\n",
      "6 can be divisible by 3\n",
      "8 is not divisible by 3\n",
      "9 can be divisible by 3\n",
      "3 can be divisible by 3\n",
      "11 is not divisible by 3\n",
      "23 is not divisible by 3\n",
      "56 is not divisible by 3\n",
      "78 can be divisible by 3\n",
      "98 is not divisible by 3\n",
      "14 is not divisible by 3\n",
      "15 can be divisible by 3\n",
      "1 is not divisible by 3\n",
      "2 is not divisible by 3\n",
      "55 is not divisible by 3\n",
      "79 is not divisible by 3\n",
      "18 can be divisible by 3\n",
      "86 is not divisible by 3\n",
      "75 can be divisible by 3\n",
      "45 can be divisible by 3\n",
      "89 is not divisible by 3\n",
      "90 can be divisible by 3\n",
      "30 can be divisible by 3\n",
      "54 can be divisible by 3\n",
      "96 can be divisible by 3\n"
     ]
    }
   ],
   "source": [
    "list1 = [4,6,8,9,3,11,23,56,78,98,14,15,1,2,55,79,18,86,75,45,89,90,30,54,96]\n",
    "for i in list1:\n",
    "    if i%3==0:\n",
    "        print(f\"{i} can be divisible by 3\")\n",
    "    else:\n",
    "        print(f\"{i} is not divisible by 3\")"
   ]
  },
  {
   "cell_type": "raw",
   "id": "268d2a39-8214-4539-94a9-213aa9c79d66",
   "metadata": {},
   "source": []
  },
  {
   "cell_type": "markdown",
   "id": "8bd70e2b-5e9b-4ff3-9a00-dd25a729420c",
   "metadata": {},
   "source": [
    "Q7. What do you understand about mutable and immutable data types? Give examples for both showing\n",
    "this property."
   ]
  },
  {
   "cell_type": "markdown",
   "id": "448f42e4-6ccc-4703-9f3b-d9b0d3fe98ea",
   "metadata": {},
   "source": [
    "Mutable data type are those, whose values can be modified once they are created. Ex:  lists, dictionaries, and sets"
   ]
  },
  {
   "cell_type": "code",
   "execution_count": 6,
   "id": "911a95ef-ed01-48eb-96aa-8041797a6195",
   "metadata": {},
   "outputs": [
    {
     "name": "stdout",
     "output_type": "stream",
     "text": [
      "[1, 2, 3, 4, 'Anjana', 'Kumari', True]\n"
     ]
    }
   ],
   "source": [
    "list_1 = [1,2,3,4,\"Anjana\",\"Sinha\",True]\n",
    "list_1[5] = \"Kumari\" \n",
    "print(list_1)"
   ]
  },
  {
   "cell_type": "markdown",
   "id": "bad763b3-308e-49e9-b2e8-6f426fbceac6",
   "metadata": {},
   "source": [
    "Immutable data types are those, whose values cannot be modified once they are created. . Ex:  int, str, bool, float, tuple, etc"
   ]
  },
  {
   "cell_type": "code",
   "execution_count": null,
   "id": "8d7ed2e3-e3d5-4cc5-9079-88d11fd8526b",
   "metadata": {},
   "outputs": [],
   "source": []
  }
 ],
 "metadata": {
  "kernelspec": {
   "display_name": "Python 3 (ipykernel)",
   "language": "python",
   "name": "python3"
  },
  "language_info": {
   "codemirror_mode": {
    "name": "ipython",
    "version": 3
   },
   "file_extension": ".py",
   "mimetype": "text/x-python",
   "name": "python",
   "nbconvert_exporter": "python",
   "pygments_lexer": "ipython3",
   "version": "3.10.8"
  }
 },
 "nbformat": 4,
 "nbformat_minor": 5
}
